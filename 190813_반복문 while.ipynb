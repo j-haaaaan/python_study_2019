{
 "cells": [
  {
   "cell_type": "markdown",
   "metadata": {},
   "source": [
    "### While 문은, 조건이 false가 될 때까지 시행"
   ]
  },
  {
   "cell_type": "code",
   "execution_count": 2,
   "metadata": {},
   "outputs": [
    {
     "name": "stdout",
     "output_type": "stream",
     "text": [
      "value :  1 , index:  0\n",
      "value :  10 , index:  1\n",
      "value :  9 , index:  2\n",
      "value :  24 , index:  3\n",
      "value :  566 , index:  4\n",
      "value :  23 , index:  5\n",
      "value :  45 , index:  6\n",
      "value :  67 , index:  7\n",
      "value :  89 , index:  8\n"
     ]
    }
   ],
   "source": [
    "a = [1, 10, 9, 24, 566, 23, 45, 67, 89]\n",
    "\n",
    "i = 0\n",
    "\n",
    "#반복을 멈추는 장치가 있는지(무한 loop에 빠지지 않도록) 확인할 것\n",
    "while i < len(a):\n",
    "    print('value : ', a[i], ', index: ', i)\n",
    "    i += 1"
   ]
  },
  {
   "cell_type": "code",
   "execution_count": 3,
   "metadata": {},
   "outputs": [
    {
     "name": "stdout",
     "output_type": "stream",
     "text": [
      "566\n",
      "67\n",
      "89\n"
     ]
    }
   ],
   "source": [
    "a = [1, 10, 9, 24, 566, 23, 45, 67, 89]\n",
    "\n",
    "i = 0\n",
    "\n",
    "#while문 + if문\n",
    "while i < len(a):\n",
    "    if a[i] >= 50:\n",
    "        print(a[i])\n",
    "    i += 1"
   ]
  },
  {
   "cell_type": "code",
   "execution_count": 4,
   "metadata": {},
   "outputs": [
    {
     "name": "stdout",
     "output_type": "stream",
     "text": [
      "1\n",
      "9\n",
      "23\n",
      "45\n",
      "67\n",
      "89\n"
     ]
    }
   ],
   "source": [
    "a = [1, 10, 9, 24, 566, 23, 45, 67, 89]\n",
    "\n",
    "i = 0\n",
    "\n",
    "#while문 + if문\n",
    "while i < len(a):\n",
    "    if a[i] % 2:\n",
    "        print(a[i])\n",
    "    i += 1"
   ]
  },
  {
   "cell_type": "markdown",
   "metadata": {},
   "source": [
    "### 무한루프 방지"
   ]
  },
  {
   "cell_type": "code",
   "execution_count": 8,
   "metadata": {},
   "outputs": [
    {
     "name": "stdout",
     "output_type": "stream",
     "text": [
      "1\n",
      "10\n",
      "9\n",
      "24\n"
     ]
    }
   ],
   "source": [
    "#break : while 문을 강제적으로 종료시키는 장치\n",
    "\n",
    "a = [1, 10, 9, 24, 566, 23, 45, 67, 89]\n",
    "\n",
    "i = 0\n",
    "while i < len(a):\n",
    "    if a[i] > 500:\n",
    "        break\n",
    "    print(a[i])\n",
    "    i += 1\n"
   ]
  },
  {
   "cell_type": "code",
   "execution_count": 13,
   "metadata": {},
   "outputs": [
    {
     "name": "stdout",
     "output_type": "stream",
     "text": [
      "6\n",
      "five\n",
      "4\n",
      "3\n",
      "2\n",
      "1\n",
      "0\n"
     ]
    }
   ],
   "source": [
    "#continue : break과 반대로 다시 while을 시행시키는 장치\n",
    "\n",
    "a = 7\n",
    "while a > 0:\n",
    "    a -= 1\n",
    "    if a == 5:\n",
    "        print('five')\n",
    "        continue       \n",
    "    print(a)"
   ]
  },
  {
   "cell_type": "markdown",
   "metadata": {},
   "source": [
    "### 반복문을 사용하여 1부터 100까지 더하기"
   ]
  },
  {
   "cell_type": "code",
   "execution_count": 17,
   "metadata": {},
   "outputs": [
    {
     "name": "stdout",
     "output_type": "stream",
     "text": [
      "5050\n"
     ]
    }
   ],
   "source": [
    "num = 0\n",
    "ans = 0\n",
    "while num < 101:\n",
    "    ans += num\n",
    "    num +=1\n",
    "    \n",
    "print(ans)"
   ]
  },
  {
   "cell_type": "code",
   "execution_count": null,
   "metadata": {},
   "outputs": [],
   "source": []
  }
 ],
 "metadata": {
  "kernelspec": {
   "display_name": "Python 3",
   "language": "python",
   "name": "python3"
  },
  "language_info": {
   "codemirror_mode": {
    "name": "ipython",
    "version": 3
   },
   "file_extension": ".py",
   "mimetype": "text/x-python",
   "name": "python",
   "nbconvert_exporter": "python",
   "pygments_lexer": "ipython3",
   "version": "3.6.4"
  }
 },
 "nbformat": 4,
 "nbformat_minor": 2
}
